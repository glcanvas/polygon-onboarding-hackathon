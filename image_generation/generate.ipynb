{
 "cells": [
  {
   "cell_type": "code",
   "execution_count": 1,
   "metadata": {
    "collapsed": true
   },
   "outputs": [],
   "source": [
    "from PIL import Image\n",
    "from IPython.display import display\n",
    "import random\n",
    "import json\n",
    "import glob as glob\n",
    "import os"
   ]
  },
  {
   "cell_type": "code",
   "execution_count": 9,
   "outputs": [],
   "source": [
    "path = \"../rabbits\"\n",
    "\n",
    "eyes = glob.glob(os.path.join(path, \"eyes_\") + \"*\")\n",
    "teeth = glob.glob(os.path.join(path, \"teeth_\") + \"*\")\n",
    "hats = glob.glob(os.path.join(path, \"hat_\") + \"*\")\n",
    "rabbits = glob.glob(os.path.join(path, \"rabbit_\") + \"*\")\n",
    "\n",
    "idx = 1\n",
    "for r in rabbits:\n",
    "    for t in teeth:\n",
    "        for e in eyes:\n",
    "            for h in hats:\n",
    "                i1 = Image.open(r).convert('RGBA')\n",
    "                i2 = Image.open(t).convert('RGBA')\n",
    "                i3 = Image.open(e).convert('RGBA')\n",
    "                i4 = Image.open(h).convert('RGBA')\n",
    "                composited = Image.alpha_composite(i1, i2)\n",
    "                composited = Image.alpha_composite(composited, i3)\n",
    "                composited = Image.alpha_composite(composited, i4)\n",
    "                composited.save(\"../nft_images/{}.png\".format(idx))\n",
    "                idx += 1"
   ],
   "metadata": {
    "collapsed": false,
    "pycharm": {
     "name": "#%%\n"
    }
   }
  }
 ],
 "metadata": {
  "kernelspec": {
   "display_name": "Python 3",
   "language": "python",
   "name": "python3"
  },
  "language_info": {
   "codemirror_mode": {
    "name": "ipython",
    "version": 2
   },
   "file_extension": ".py",
   "mimetype": "text/x-python",
   "name": "python",
   "nbconvert_exporter": "python",
   "pygments_lexer": "ipython2",
   "version": "2.7.6"
  }
 },
 "nbformat": 4,
 "nbformat_minor": 0
}