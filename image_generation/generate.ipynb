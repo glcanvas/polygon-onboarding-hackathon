{
 "cells": [
  {
   "cell_type": "code",
   "execution_count": 14,
   "metadata": {
    "collapsed": true
   },
   "outputs": [],
   "source": [
    "from PIL import Image\n",
    "from IPython.display import display\n",
    "import random\n",
    "import json\n",
    "import glob as glob\n",
    "import os"
   ]
  },
  {
   "cell_type": "code",
   "execution_count": 15,
   "outputs": [
    {
     "name": "stdout",
     "output_type": "stream",
     "text": [
      "['../parts/eyes_2.png', '../parts/eyes_1.png']\n",
      "['../parts/mouth_1.png']\n"
     ]
    }
   ],
   "source": [
    "path = \"../parts\"\n",
    "\n",
    "eyes = glob.glob(os.path.join(path, \"eyes_\") + \"*\")\n",
    "mouths = glob.glob(os.path.join(path, \"mouth_\") + \"*\")\n",
    "print(eyes)\n",
    "print(mouths)\n",
    "\n",
    "idx = 1\n",
    "for e in eyes:\n",
    "    for m in mouths:\n",
    "        im1 = Image.open(e).convert('RGBA')\n",
    "        im2 = Image.open(m).convert('RGBA')\n",
    "        composited = Image.alpha_composite(im1, im2)\n",
    "        rgb_image = composited\n",
    "        rgb_image.save(\"../nft_images/{}.png\".format(idx))\n",
    "        idx += 1"
   ],
   "metadata": {
    "collapsed": false,
    "pycharm": {
     "name": "#%%\n"
    }
   }
  }
 ],
 "metadata": {
  "kernelspec": {
   "display_name": "Python 3",
   "language": "python",
   "name": "python3"
  },
  "language_info": {
   "codemirror_mode": {
    "name": "ipython",
    "version": 2
   },
   "file_extension": ".py",
   "mimetype": "text/x-python",
   "name": "python",
   "nbconvert_exporter": "python",
   "pygments_lexer": "ipython2",
   "version": "2.7.6"
  }
 },
 "nbformat": 4,
 "nbformat_minor": 0
}